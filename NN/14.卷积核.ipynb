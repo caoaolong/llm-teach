﻿{
 "cells": [
  {
   "metadata": {},
   "cell_type": "markdown",
   "source": [
    "## 🌟 什么是卷积核（Convolution Kernel / Filter）\n",
    "\n",
    "在卷积神经网络（CNN）中，**卷积核**是一个小的矩阵，它的任务是扫描输入图像并提取**特征信息**。可以把它想象成一个“窗口”，在图像上滑动，对局部像素进行加权求和。\n",
    "\n",
    "常用卷积核算法\n",
    "\n",
    "```\n",
    "均值模糊：\n",
    "1/9 * [[1, 1, 1],\n",
    "       [1, 1, 1],\n",
    "       [1, 1, 1]]\n",
    "\n",
    "高斯模糊：\n",
    "1/16 * [[1, 2, 1],\n",
    "         [2, 4, 2],\n",
    "         [1, 2, 1]]\n",
    "\n",
    "锐化：\n",
    "[[ 0, -1,  0],\n",
    " [-1,  5, -1],\n",
    " [ 0, -1,  0]]\n",
    "\n",
    "水平边缘：\n",
    "[[-1, 0, 1],\n",
    " [-2, 0, 2],\n",
    " [-1, 0, 1]]\n",
    "\n",
    "垂直边缘：\n",
    "[[-1, -2, -1],\n",
    " [ 0,  0,  0],\n",
    " [ 1,  2,  1]]\n",
    "\n",
    "Laplacian 算子（检测全方向边缘）：\n",
    "[[ 0,  1, 0],\n",
    "  [1, -4, 1],\n",
    "  [0,  1, 0]]\n",
    "\n",
    "```\n",
    "\n",
    "这个卷积核对图像做**边缘检测**（特别是水平边缘）。\n",
    "\n",
    "---\n",
    "\n",
    "## 🧠 卷积核在 CNN 中的作用\n",
    "\n",
    "1. **特征提取器（Feature Extractor）**\n",
    "   卷积核通过滑动扫描图片的每一部分，计算卷积值，从而提取例如边缘、角点、纹理等局部特征。\n",
    "\n",
    "2. **参数共享**\n",
    "   同一个卷积核在整个图像上重复使用（滑动），大大减少了参数数量。\n",
    "\n",
    "3. **局部感受野**\n",
    "   每个神经元只关注输入图像的一小部分区域，而不是整个图像，这提升了模型的效率。\n",
    "\n",
    "---\n",
    "\n",
    "## 🧪 卷积操作过程（以 2D 卷积为例）\n",
    "\n",
    "假设输入是一个 5×5 的灰度图像，卷积核大小是 3×3，步幅 stride=1，不使用填充（padding）：\n",
    "\n",
    "1. 将卷积核放到图像的左上角，对应区域做**逐元素乘法并求和**。\n",
    "2. 得到一个值，作为输出的一个像素。\n",
    "3. 向右滑动一格，重复操作，直到扫完整张图。\n",
    "4. 输出一个新的特征图（feature map），其大小取决于输入尺寸、卷积核大小、步幅和填充方式。\n",
    "\n",
    "---\n",
    "\n",
    "## 🤖 卷积核是怎么“学”的？\n",
    "\n",
    "CNN 中的卷积核值**不是手工设置的**，而是在训练过程中通过**反向传播算法**自动优化出来的。每个卷积核会学会提取不同类型的特征，比如：\n",
    "\n",
    "* 第一层卷积核可能学到**边缘、颜色变化**\n",
    "* 更深层的卷积核可能学到**形状、结构**\n",
    "* 再深一些可能会学到**语义层面特征**"
   ],
   "id": "1378a25a069fe383"
  },
  {
   "cell_type": "code",
   "id": "initial_id",
   "metadata": {
    "collapsed": true,
    "ExecuteTime": {
     "end_time": "2025-06-04T07:05:54.473725Z",
     "start_time": "2025-06-04T07:05:46.570913Z"
    }
   },
   "source": [
    "import torch.nn as nn\n",
    "import matplotlib.pyplot as plt\n",
    "\n",
    "class CNN(nn.Module):\n",
    "    def __init__(self):\n",
    "        super(CNN, self).__init__()\n",
    "        self.conv1 = nn.Conv2d(in_channels=1, out_channels=6, kernel_size=5)\n",
    "        self.relu = nn.ReLU()\n",
    "        self.pool = nn.MaxPool2d(2, 2)\n",
    "\n",
    "    def forward(self, x):\n",
    "        x = self.pool(self.relu(self.conv1(x)))\n",
    "        return x\n",
    "\n",
    "model = CNN()\n",
    "\n",
    "# 卷积核 shape: [out_channels, in_channels, height, width]\n",
    "kernels = model.conv1.weight.data.clone()\n",
    "\n",
    "# 可视化每个卷积核\n",
    "fig, axes = plt.subplots(1, 6, figsize=(15, 3))\n",
    "for i, ax in enumerate(axes):\n",
    "    kernel = kernels[i][0].numpy()  # 取第i个输出通道的第一个输入通道\n",
    "    ax.imshow(kernel, cmap='gray')\n",
    "    ax.set_title(f'Kernel {i}')\n",
    "    ax.axis('off')\n",
    "plt.show()\n"
   ],
   "outputs": [
    {
     "data": {
      "text/plain": [
       "<Figure size 1500x300 with 6 Axes>"
      ],
      "image/png": "[encoded data removed]"
     },
     "metadata": {},
     "output_type": "display_data"
    }
   ],
   "execution_count": 1
  },
  {
   "metadata": {
    "ExecuteTime": {
     "end_time": "2025-06-04T07:08:11.842887Z",
     "start_time": "2025-06-04T07:07:32.184356Z"
    }
   },
   "cell_type": "code",
   "source": [
    "import torch\n",
    "import torch.nn as nn\n",
    "import torchvision\n",
    "import torchvision.transforms as transforms\n",
    "import matplotlib.pyplot as plt\n",
    "\n",
    "# 1. 定义简单 CNN 模型\n",
    "class SimpleCNN(nn.Module):\n",
    "    def __init__(self):\n",
    "        super(SimpleCNN, self).__init__()\n",
    "        self.conv1 = nn.Conv2d(1, 6, 5)  # 1输入通道, 6输出通道, 5x5卷积核\n",
    "        self.relu = nn.ReLU()\n",
    "        self.pool = nn.MaxPool2d(2, 2)\n",
    "        self.fc = nn.Linear(6 * 12 * 12, 10)  # 假设输入图像28x28\n",
    "\n",
    "    def forward(self, x):\n",
    "        x = self.pool(self.relu(self.conv1(x)))\n",
    "        x = x.view(-1, 6 * 12 * 12)\n",
    "        x = self.fc(x)\n",
    "        return x\n",
    "\n",
    "model = SimpleCNN()\n",
    "\n",
    "# 2. 加载 MNIST 数据集\n",
    "transform = transforms.Compose([transforms.ToTensor()])\n",
    "train_loader = torch.utils.data.DataLoader(\n",
    "    torchvision.datasets.MNIST('runs/data', train=True, download=True, transform=transform),\n",
    "    batch_size=64, shuffle=True\n",
    ")\n",
    "\n",
    "# 3. 训练模型\n",
    "criterion = nn.CrossEntropyLoss()\n",
    "optimizer = torch.optim.Adam(model.parameters(), lr=0.001)\n",
    "\n",
    "for epoch in range(2):  # 训练2个epoch以快速演示\n",
    "    for images, labels in train_loader:\n",
    "        optimizer.zero_grad()\n",
    "        outputs = model(images)\n",
    "        loss = criterion(outputs, labels)\n",
    "        loss.backward()\n",
    "        optimizer.step()\n",
    "\n",
    "print(\"训练完成\")\n",
    "\n",
    "# 4. 可视化第一层卷积核\n",
    "kernels = model.conv1.weight.data.clone()\n",
    "\n",
    "fig, axes = plt.subplots(1, 6, figsize=(15, 3))\n",
    "for i, ax in enumerate(axes):\n",
    "    kernel = kernels[i][0].numpy()\n",
    "    ax.imshow(kernel, cmap='gray')\n",
    "    ax.set_title(f'Trained Kernel {i}')\n",
    "    ax.axis('off')\n",
    "plt.show()\n"
   ],
   "id": "621e5b5ab47f4deb",
   "outputs": [
    {
     "name": "stderr",
     "output_type": "stream",
     "text": [
      "100.0%\n",
      "100.0%\n",
      "100.0%\n",
      "100.0%\n"
     ]
    },
    {
     "name": "stdout",
     "output_type": "stream",
     "text": [
      "训练完成\n"
     ]
    },
    {
     "data": {
      "text/plain": [
       "<Figure size 1500x300 with 6 Axes>"
      ],
      "image/png": "[encoded data removed]"
     },
     "metadata": {},
     "output_type": "display_data"
    }
   ],
   "execution_count": 2
  }
 ],
 "metadata": {
  "kernelspec": {
   "display_name": "Python 3",
   "language": "python",
   "name": "python3"
  },
  "language_info": {
   "codemirror_mode": {
    "name": "ipython",
    "version": 2
   },
   "file_extension": ".py",
   "mimetype": "text/x-python",
   "name": "python",
   "nbconvert_exporter": "python",
   "pygments_lexer": "ipython2",
   "version": "2.7.6"
  }
 },
 "nbformat": 4,
 "nbformat_minor": 5
}
